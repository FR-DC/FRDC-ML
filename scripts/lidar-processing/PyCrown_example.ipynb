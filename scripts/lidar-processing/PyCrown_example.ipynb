{
 "cells": [
  {
   "cell_type": "markdown",
   "metadata": {},
   "source": [
    "# Tree Segmentation Example\n",
    "This is a simple example of what the PyCrown package can do: from pre-calculated rasters (CHM, DSM and DTM) and a height-normalized 3D LiDAR point cloud, individual trees can be segmented.\n",
    "Outputs are shapefiles of tree top locations, crown shapes as well as a .LAS-file containing classified trees."
   ]
  },
  {
   "cell_type": "markdown",
   "metadata": {},
   "source": [
    "## Start with importing the modules"
   ]
  },
  {
   "cell_type": "code",
   "execution_count": 1,
   "metadata": {},
   "outputs": [],
   "source": [
    "import sys\n",
    "from datetime import datetime\n",
    "from pycrown import PyCrown"
   ]
  },
  {
   "cell_type": "markdown",
   "metadata": {},
   "source": [
    "## Set input files\n",
    "Specify the file locations for the CHM, DSM, DTM and the LiDAR point cloud.\n",
    "The latter is only needed if the point cloud should be classified into individual trees."
   ]
  },
  {
   "cell_type": "code",
   "execution_count": 2,
   "metadata": {},
   "outputs": [],
   "source": [
    "F_CHM = 'chm.tif'\n",
    "F_DTM = 'dtm.tif'\n",
    "F_DSM = 'dsm.tif'\n",
    "F_LAS = 'clf_norm_merge.las'"
   ]
  },
  {
   "cell_type": "markdown",
   "metadata": {},
   "source": [
    "## Initialize an instance of PyCrown"
   ]
  },
  {
   "cell_type": "code",
   "execution_count": 3,
   "metadata": {},
   "outputs": [],
   "source": [
    "PC = PyCrown(F_CHM, F_DTM, F_DSM, F_LAS, outpath='result_9m')"
   ]
  },
  {
   "cell_type": "markdown",
   "metadata": {},
   "source": [
    "## Clip all input data to new bounding box."
   ]
  },
  {
   "cell_type": "code",
   "execution_count": 4,
   "metadata": {},
   "outputs": [],
   "source": [
    "#PC.clip_data_to_bbox((1802150, 1802408, 5467305, 5467480))"
   ]
  },
  {
   "cell_type": "markdown",
   "metadata": {},
   "source": [
    "## Smooth CHM\n",
    "A 5x5m block median filter is used (set circular=True to enable a disc-shaped window)."
   ]
  },
  {
   "cell_type": "code",
   "execution_count": 5,
   "metadata": {},
   "outputs": [
    {
     "name": "stdout",
     "output_type": "stream",
     "text": [
      "Help on method filter_chm in module pycrown.pycrown:\n",
      "\n",
      "filter_chm(ws, ws_in_pixels=False, circular=False) method of pycrown.pycrown.PyCrown instance\n",
      "    Pre-process the canopy height model (smoothing and outlier removal).\n",
      "    The original CHM (self.chm0) is not overwritten, but a new one is\n",
      "    stored (self.chm).\n",
      "    \n",
      "    Parameters\n",
      "    ----------\n",
      "    ws :            int\n",
      "                    window size of smoothing filter in metre (set in_pixel=True, otherwise)\n",
      "    ws_in_pixels :  bool, optional\n",
      "                    sets ws in pixel\n",
      "    circular :      bool, optional\n",
      "                    set to True for disc-shaped filter kernel, block otherwise\n",
      "\n"
     ]
    }
   ],
   "source": [
    "help(PC.filter_chm)"
   ]
  },
  {
   "cell_type": "code",
   "execution_count": 6,
   "metadata": {},
   "outputs": [],
   "source": [
    "PC.filter_chm(5, ws_in_pixels=True, circular=False)"
   ]
  },
  {
   "cell_type": "markdown",
   "metadata": {},
   "source": [
    "## Tree Detection with local maximum filter"
   ]
  },
  {
   "cell_type": "code",
   "execution_count": 7,
   "metadata": {},
   "outputs": [
    {
     "name": "stdout",
     "output_type": "stream",
     "text": [
      "Help on method tree_detection in module pycrown.pycrown:\n",
      "\n",
      "tree_detection(raster, resolution=None, ws=5, hmin=20, return_trees=False, ws_in_pixels=False) method of pycrown.pycrown.PyCrown instance\n",
      "    Detect individual trees from CHM raster based on a maximum filter.\n",
      "    Identified trees are either stores as list in the tree dataframe or\n",
      "    returned as ndarray.\n",
      "    \n",
      "    Parameters\n",
      "    ----------\n",
      "    raster :        ndarray\n",
      "                    raster of height values (e.g., CHM)\n",
      "    resolution :    int, optional\n",
      "                    resolution of raster in m\n",
      "    ws :            float\n",
      "                    moving window size (in metre) to detect the local maxima\n",
      "    hmin :          float\n",
      "                    Minimum height of a tree. Threshold below which a pixel\n",
      "                    or a point cannot be a local maxima\n",
      "    return_trees :  bool\n",
      "                    set to True if detected trees shopuld be returned as\n",
      "                    ndarray instead of being stored in tree dataframe\n",
      "    ws_in_pixels :  bool\n",
      "                    sets ws in pixel\n",
      "    \n",
      "    Returns\n",
      "    -------\n",
      "    ndarray (optional)\n",
      "        nx2 array of tree top pixel coordinates\n",
      "\n"
     ]
    }
   ],
   "source": [
    "help(PC.tree_detection)"
   ]
  },
  {
   "cell_type": "code",
   "execution_count": 8,
   "metadata": {},
   "outputs": [],
   "source": [
    "PC.tree_detection(PC.chm, ws=9*10, hmin=16., ws_in_pixels=True)"
   ]
  },
  {
   "cell_type": "markdown",
   "metadata": {},
   "source": [
    "## Clip trees to bounding box \n",
    "(no trees on image edge)\n",
    "original extent: 1802140, 1802418, 5467295, 5467490    "
   ]
  },
  {
   "cell_type": "code",
   "execution_count": 9,
   "metadata": {},
   "outputs": [],
   "source": [
    "#PC.clip_trees_to_bbox(bbox=(1802160, 1802400, 5467315, 5467470))"
   ]
  },
  {
   "cell_type": "markdown",
   "metadata": {},
   "source": [
    "## Crown Delineation"
   ]
  },
  {
   "cell_type": "code",
   "execution_count": 10,
   "metadata": {},
   "outputs": [
    {
     "name": "stdout",
     "output_type": "stream",
     "text": [
      "Tree crowns delineation: 0.184s\n"
     ]
    }
   ],
   "source": [
    "PC.crown_delineation(algorithm='dalponteCIRC_numba', th_tree=15.,\n",
    "                     th_seed=0.7, th_crown=0.55, max_crown=10.)"
   ]
  },
  {
   "cell_type": "markdown",
   "metadata": {},
   "source": [
    "## (Optional) Correct tree tops on steep terrain"
   ]
  },
  {
   "cell_type": "code",
   "execution_count": 11,
   "metadata": {},
   "outputs": [
    {
     "name": "stdout",
     "output_type": "stream",
     "text": [
      "Number of trees: 239\n",
      "Tree tops corrected: 23\n",
      "Tree tops corrected: 9.623430962343097%\n",
      "DSM correction: 15\n",
      "COM correction: 8\n"
     ]
    },
    {
     "data": {
      "text/plain": [
       "(15, 8)"
      ]
     },
     "execution_count": 11,
     "metadata": {},
     "output_type": "execute_result"
    }
   ],
   "source": [
    "PC.correct_tree_tops()"
   ]
  },
  {
   "cell_type": "markdown",
   "metadata": {},
   "source": [
    "## Calculate tree height and elevation"
   ]
  },
  {
   "cell_type": "code",
   "execution_count": 12,
   "metadata": {},
   "outputs": [],
   "source": [
    "PC.get_tree_height_elevation(loc='top')\n",
    "PC.get_tree_height_elevation(loc='top_cor')"
   ]
  },
  {
   "cell_type": "markdown",
   "metadata": {},
   "source": [
    "## Screen small trees"
   ]
  },
  {
   "cell_type": "code",
   "execution_count": 13,
   "metadata": {},
   "outputs": [],
   "source": [
    "#PC.screen_small_trees(hmin=20., loc='top')"
   ]
  },
  {
   "cell_type": "markdown",
   "metadata": {},
   "source": [
    "## Convert raster crowns to polygons"
   ]
  },
  {
   "cell_type": "code",
   "execution_count": 14,
   "metadata": {},
   "outputs": [
    {
     "name": "stdout",
     "output_type": "stream",
     "text": [
      "Converting LAS point cloud to shapely points\n",
      "Converting raster crowns to shapely polygons\n",
      "Attach LiDAR points to corresponding crowns\n",
      "Create convex hull around first return points\n",
      "Classifying point cloud\n"
     ]
    }
   ],
   "source": [
    "PC.crowns_to_polys_raster()\n",
    "PC.crowns_to_polys_smooth(store_las=True)"
   ]
  },
  {
   "cell_type": "markdown",
   "metadata": {},
   "source": [
    "## Check that all geometries are valid"
   ]
  },
  {
   "cell_type": "code",
   "execution_count": 15,
   "metadata": {},
   "outputs": [],
   "source": [
    "PC.quality_control()"
   ]
  },
  {
   "cell_type": "markdown",
   "metadata": {},
   "source": [
    "## Print out number of trees"
   ]
  },
  {
   "cell_type": "code",
   "execution_count": 16,
   "metadata": {},
   "outputs": [
    {
     "name": "stdout",
     "output_type": "stream",
     "text": [
      "Number of trees detected: 239\n"
     ]
    }
   ],
   "source": [
    "print(f\"Number of trees detected: {len(PC.trees)}\")"
   ]
  },
  {
   "cell_type": "markdown",
   "metadata": {},
   "source": [
    "## Export results"
   ]
  },
  {
   "cell_type": "code",
   "execution_count": 17,
   "metadata": {},
   "outputs": [],
   "source": [
    "PC.export_raster(PC.chm, PC.outpath / 'chm.tif', 'CHM')\n",
    "PC.export_tree_locations(loc='top')\n",
    "PC.export_tree_locations(loc='top_cor')\n",
    "PC.export_tree_crowns(crowntype='crown_poly_raster')\n",
    "PC.export_tree_crowns(crowntype='crown_poly_smooth')"
   ]
  },
  {
   "cell_type": "code",
   "execution_count": null,
   "metadata": {},
   "outputs": [],
   "source": []
  }
 ],
 "metadata": {
  "kernelspec": {
   "display_name": "Python 3",
   "language": "python",
   "name": "python3"
  },
  "language_info": {
   "codemirror_mode": {
    "name": "ipython",
    "version": 3
   },
   "file_extension": ".py",
   "mimetype": "text/x-python",
   "name": "python",
   "nbconvert_exporter": "python",
   "pygments_lexer": "ipython3",
   "version": "3.6.10"
  }
 },
 "nbformat": 4,
 "nbformat_minor": 4
}
